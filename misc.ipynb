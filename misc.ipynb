{
 "cells": [
  {
   "cell_type": "markdown",
   "metadata": {},
   "source": [
    "<br><br><br>\n",
    "<div style=\"font-family: 'Gen Jyuu Gothic Monospace Medium', 'Noto Sans TC', 'Inconsolata'; font-size: 600%; font-weight: 700; text-align: center; color: #A5D178;\">\n",
    "東邪西毒話Py常\n",
    "</div>\n",
    "<br><br><br><br><br><br><br><br><br><br><br><br><br>\n"
   ]
  },
  {
   "cell_type": "markdown",
   "metadata": {},
   "source": [
    "<div style=\"color: SteelBlue; font-family: 'Ubuntu Mono', 'Inconsolata', 'Noto Sans TC'; font-size: 300%; font-weight: 700;\">\n",
    "標題由來\n",
    "</div>\n",
    "\n",
    "<div style=\"font-family: 'Inconsolata', 'Noto Sans TC'; font-size: 135%; color: Gainsboro\">\n",
    "\n",
    "* 原本想用這些標題：\n",
    "    * 東拼西湊...\n",
    "    * 東拉西扯...\n",
    "    * 東張西望...\n",
    "    * 東奔西走...\n",
    "    * 東歪西倒...\n",
    "    * 東躲西藏...\n",
    "    * 東偷西摸...\n",
    "    * 東搖西擺...\n",
    "* 最後決定向王家衛致敬。    \n",
    "</div>"
   ]
  },
  {
   "cell_type": "markdown",
   "metadata": {},
   "source": [
    "<div style=\"text-align:center\"><img src=\"https://hackmd.io/_uploads/H1jFMAgXT.jpg\" width=\"800\"/></div>\n"
   ]
  },
  {
   "cell_type": "code",
   "execution_count": null,
   "metadata": {},
   "outputs": [],
   "source": [
    "%%javascript\n",
    "// 設定output文字顏色。\n",
    "// document.styleSheets[0].addRule('body', 'color: #FFFF84 !important;')\n",
    "document.styleSheets[0].addRule('body', 'color: Plum !important;')"
   ]
  },
  {
   "cell_type": "markdown",
   "metadata": {},
   "source": [
    "<div style=\"color: SteelBlue; font-family: 'Ubuntu Mono', 'Inconsolata', 'Noto Sans TC'; font-size: 300%; font-weight: 700;\">\n",
    "1. Python 3.12\n",
    "</div>\n",
    "<br>\n",
    "<div style=\"font-family: 'Inconsolata', 'Noto Sans TC'; font-size: 135%; color: Gainsboro\">\n",
    "\n",
    "* [The best new features and fixes in Python 3.12](https://www.infoworld.com/article/3697018/the-best-new-features-and-fixes-in-python-3-12.html)\n",
    "* 3.12版的強化和新增功能一大堆，其中令筆者「雀躍三尺」的是對f-string的改進。\n",
    "* f-string自從Python 3.6推出以來，已逐漸成為Python formatted string的新標準(最少筆者這樣認為)。簡潔直觀的語法，在大部分情境中確實比舊版的string.format()好用得多。\n",
    "* 然而，一直到3.11版，f-string還是有些比較不方便地方。這些不便在3.12版獲得改善。\n",
    "* 官網原文：`PEP 701 lifts some restrictions on the usage of f-strings. Expression components inside f-strings can now be any valid Python expression, including strings reusing the same quote as the containing f-string, multi-line expressions, comments, backslashes, and unicode escape sequences.`"
   ]
  },
  {
   "cell_type": "markdown",
   "metadata": {},
   "source": [
    "<div style=\"color: DarkSalmon; font-family: 'Ubuntu Mono', 'Inconsolata', 'Noto Sans TC'; font-size: 250%; font-weight: 700;\">\n",
    "f-string進化論-1.1\n",
    "</div>\n",
    "<br>\n",
    "<div style=\"font-family: 'Inconsolata', 'Noto Sans TC'; font-size: 135%; color: Gainsboro\">\n",
    "\n",
    "* F-string expressions can now contain the same kinds of quotes as those used to set off the f-string itself.\n",
    "* 筆者認為這是3.12版最大的改善，嘉惠一眾Pythonistas良多。"
   ]
  },
  {
   "cell_type": "code",
   "execution_count": null,
   "metadata": {},
   "outputs": [],
   "source": [
    "# Python官網的範例。\n",
    "songs = ['Take me back to Eden', 'Alkaline', 'Ascensionism']\n",
    "print(f\"This is the playlist: {\", \".join(songs)}\")"
   ]
  },
  {
   "cell_type": "code",
   "execution_count": null,
   "metadata": {},
   "outputs": [],
   "source": [
    "# 3.6 - 3.11版要改成這樣才行。\n",
    "songs = ['Take me back to Eden', 'Alkaline', 'Ascensionism']\n",
    "print(f\"This is the playlist: {', '.join(songs)}\")"
   ]
  },
  {
   "cell_type": "code",
   "execution_count": 27,
   "metadata": {},
   "outputs": [
    {
     "name": "stdout",
     "output_type": "stream",
     "text": [
      "raw = '01234567890123456789'\n",
      "stuff(raw, 3, 2, '_Python_' ) = '012_Python_567890123456789'\n",
      "stuff(raw, 8, 4, '' ) = '0123456723456789'\n",
      "stuff(raw, 0, 0, '_Python_' ) = '_Python_01234567890123456789'\n",
      "stuff(raw, len(raw), 10, '_Python_' ) = '01234567890123456789_Python_'\n",
      "\n"
     ]
    }
   ],
   "source": [
    "# 筆者以前常用的程式語言(Clipper)有一個很好用的字串函數，\n",
    "# Python的字串並無同樣功能的內建函數。沒有就自己寫唄。\n",
    "def stuff(raw: str, start: int, len_del: int, insert: str) -> str:\n",
    "    \"\"\"在`raw`的`start`位置開始，刪除`len_del`個字元，\n",
    "       再在原處插入子字串`insert`，構成另一新字串。\n",
    "       意思是本函數同時具有刪除和插入功能。\n",
    "\n",
    "    Args:\n",
    "        raw (str): 原字串\n",
    "        start (int): 刪除及插入的開始位置(從0起算)\n",
    "        len_del (int): 刪除的字元數\n",
    "        insert (str): 插入的子元串\n",
    "\n",
    "    Returns:\n",
    "        str: 處理後的新字串。\n",
    "    \"\"\"\n",
    "    return f'{raw[:start]}{insert}{raw[start + len_del:]}'\n",
    "\n",
    "raw = '0123456789' * 2\n",
    "print(f'{raw = }')\n",
    "print(f'{stuff(raw, 3, 2, '_Python_' ) = }')\n",
    "print(f'{stuff(raw, 8, 4, '' ) = }')\n",
    "print(f'{stuff(raw, 0, 0, '_Python_' ) = }')\n",
    "print(f'{stuff(raw, len(raw), 0, '_Python_' ) = }')\n",
    "print()\n"
   ]
  },
  {
   "cell_type": "code",
   "execution_count": null,
   "metadata": {},
   "outputs": [],
   "source": [
    "f'abc'xyz'kk'  # 不管哪一版都不行。「人」也判定不了。"
   ]
  },
  {
   "cell_type": "markdown",
   "metadata": {},
   "source": [
    "<div style=\"color: DarkSalmon; font-family: 'Ubuntu Mono', 'Inconsolata', 'Noto Sans TC'; font-size: 250%; font-weight: 700;\">\n",
    "f-string進化論-1.2 (QA時間)\n",
    "</div>\n",
    "<br>\n",
    "<div style=\"font-family: 'Inconsolata', 'Noto Sans TC'; font-size: 135%; color: Gainsboro\">\n",
    "\n",
    "* Q1: 3.11⇧的(vertical) <font color='Gold'>nested f-strings</font>「理論上」和「實務上」分別<font color='Gold'>最多</font>可以有幾層？\n",
    "    * 說明：所謂nested(巢套)，意思是「大腸包小腸」、「俄羅斯娃娃」：\n",
    "        * <span style=\"color: #FF3232; font-size: 112%; font-weight: 800;\">f'{f\"{(num := 2 + 1)}\"   f\"  {num ** 2 // 2}\"}'</span>\n",
    "        * Q1.1: 以上的f-strings，(vertical) nested了幾層？\n",
    "        * A1.1: ?\n",
    "* A1:\n",
    "    * 理論上：?\n",
    "    * 實務上：?\n",
    "* Q2: 3.12的(vertical) <font color='Gold'>nested f-strings</font>「理論上」和「實務上」分別<font color='Gold'>最多</font>可以有幾層？\n",
    "* A2:\n",
    "    * 理論上：?\n",
    "    * 實務上：?"
   ]
  },
  {
   "cell_type": "code",
   "execution_count": null,
   "metadata": {},
   "outputs": [],
   "source": [
    "# 這是剛才舉的nested f-strings範例，各位有無興趣猜一下其輸出？\n",
    "f'{f\"{(num := 2 + 1)}\"   f\"  {(num ** 2) // 2}\"}'\n",
    "f'{f\"{(num := 2 + 1)}\"f\"  {(num ** 2) // 2}\"}'"
   ]
  },
  {
   "cell_type": "markdown",
   "metadata": {},
   "source": [
    "<div style=\"color: DarkSalmon; font-family: 'Ubuntu Mono', 'Inconsolata', 'Noto Sans TC'; font-size: 250%; font-weight: 700;\">\n",
    "f-string進化論-1.3 (1.2的解答)\n",
    "</div>\n",
    "<br>\n",
    "<div style=\"font-family: 'Inconsolata', 'Noto Sans TC'; font-size: 135%; color: Gainsboro\">\n",
    "\n",
    "* Note that before this change(3.11⇧) there was no explicit limit in how f-strings can be nested, but <font color='Salmon'>the fact that string quotes cannot be reused inside the expression component of f-strings made it impossible to nest f-strings arbitrarily</font>. In fact, this is the most nested f-string that could be written:\n"
   ]
  },
  {
   "cell_type": "markdown",
   "metadata": {},
   "source": [
    "<div style=\"text-align:center\"><img src=\"https://hackmd.io/_uploads/S15GNeyma.jpg\" width=\"750\"/></div>"
   ]
  },
  {
   "cell_type": "code",
   "execution_count": null,
   "metadata": {},
   "outputs": [],
   "source": [
    "# 3.11⇧的nested f-strings本來是不限層數的，\n",
    "# 但受制於quotes(引號)就只有4種，所以最多也只能有4層。\n",
    "f\"\"\"{f'''{f\"{f'{1 + 1}'}\"}'''}\"\"\""
   ]
  },
  {
   "cell_type": "code",
   "execution_count": null,
   "metadata": {},
   "outputs": [],
   "source": [
    "# 3.11⇧再多一層就沒轍了。\n",
    "f'{f\"\"\"{f'''{f\"{f'{1 + 1}'}\"}'''}\"\"\"}'"
   ]
  },
  {
   "cell_type": "markdown",
   "metadata": {},
   "source": [
    "<div style=\"text-align:center\"><img src=\"https://hackmd.io/_uploads/rJhHzxkXp.jpg\" width=\"750\"/></div>"
   ]
  },
  {
   "cell_type": "markdown",
   "metadata": {},
   "source": [
    "<div style=\"color: DarkSalmon; font-family: 'Ubuntu Mono', 'Inconsolata', 'Noto Sans TC'; font-size: 250%; font-weight: 700;\">\n",
    "f-string進化論-1.4\n",
    "</div>\n",
    "<br>\n",
    "<div style=\"font-family: 'Inconsolata', 'Noto Sans TC'; font-size: 135%; color: Gainsboro\">\n",
    "\n",
    "* As now f-strings can contain any valid Python expression inside expression components, it is now possible to nest f-strings arbitrarily:\n"
   ]
  },
  {
   "cell_type": "code",
   "execution_count": null,
   "metadata": {},
   "outputs": [],
   "source": [
    "# 3.12的nested strings可真正做到無限多層。\n",
    "f'{f'{f'{f'{f'{f'{f'{f'{f'{f'{1 + 1}'}'}'}'}'}'}'}'}'}'"
   ]
  },
  {
   "cell_type": "markdown",
   "metadata": {},
   "source": [
    "<div style=\"color: DarkSalmon; font-family: 'Ubuntu Mono', 'Inconsolata', 'Noto Sans TC'; font-size: 250%; font-weight: 700;\">\n",
    "f-string進化論-2\n",
    "</div>\n",
    "<br>\n",
    "<div style=\"font-family: 'Inconsolata', 'Noto Sans TC'; font-size: 135%; color: Gainsboro\">\n",
    "\n",
    "* Multi-line expressions and comments: In Python 3.11, f-string expressions must be defined in a single line, even if the expression within the f-string could normally span multiple lines (like literal lists being defined over multiple lines), making them harder to read. In Python 3.12 you can now define f-strings spanning multiple lines, and add inline comments:"
   ]
  },
  {
   "cell_type": "code",
   "execution_count": 2,
   "metadata": {},
   "outputs": [
    {
     "data": {
      "text/plain": [
       "'This is the playlist: Take me back to Eden,Alkaline,Ascensionism'"
      ]
     },
     "execution_count": 2,
     "metadata": {},
     "output_type": "execute_result"
    }
   ],
   "source": [
    "# 3.11⇧的f-string只能單行，即使很長也不能夠分行。\n",
    "f\"This is the playlist: {', '.join(['Take me back to Eden', 'Alkaline', 'Ascensionism'])}\""
   ]
  },
  {
   "cell_type": "code",
   "execution_count": null,
   "metadata": {},
   "outputs": [],
   "source": [
    "# 這樣分行本來較易閱讀，可惜在3.11⇧行不通。\n",
    "# 3.12就沒有問題了。\n",
    "f\"This is the playlist: {', '.join([\n",
    "    'Take me back to Eden',  # My, my, those eyes like fire\n",
    "    'Alkaline',              # Not acid nor alkaline\n",
    "    'Ascensionism'           # Take to the broken skies at last\n",
    " ])}\""
   ]
  },
  {
   "cell_type": "markdown",
   "metadata": {},
   "source": [
    "<div style=\"color: DarkSalmon; font-family: 'Ubuntu Mono', 'Inconsolata', 'Noto Sans TC'; font-size: 250%; font-weight: 700;\">\n",
    "f-string進化論-3\n",
    "</div>\n",
    "<br>\n",
    "<div style=\"font-family: 'Inconsolata', 'Noto Sans TC'; font-size: 135%; color: Gainsboro\">\n",
    "\n",
    "* Backslashes and unicode characters: before Python 3.12 f-string expressions couldn’t contain any \\ character. This also affected unicode escape sequences (such as \\N{snowman}) as these contain the \\N part that previously could not be part of expression components of f-strings. Now, you can define expressions like this:"
   ]
  },
  {
   "cell_type": "code",
   "execution_count": 1,
   "metadata": {},
   "outputs": [
    {
     "name": "stdout",
     "output_type": "stream",
     "text": [
      "中國著名古典小說：\n",
      "\t三國演義\n",
      "\t水滸傳\n",
      "\t西遊記\n",
      "\t金瓶梅\n",
      "\t紅樓夢\n",
      "中國著名古典小說：\n",
      "三國演義☃水滸傳☃西遊記☃金瓶梅☃紅樓夢\n"
     ]
    }
   ],
   "source": [
    "novels = ['三國演義', '水滸傳', '西遊記', '金瓶梅', '紅樓夢']\n",
    "\n",
    "print(f\"中國著名古典小說：\\n\\t{'\\n\\t'.join(novels)}\")\n",
    "print(f\"中國著名古典小說：\\n{'\\N{snowman}'.join(novels)}\")"
   ]
  },
  {
   "cell_type": "markdown",
   "metadata": {},
   "source": [
    "<div style=\"color: DarkSalmon; font-family: 'Ubuntu Mono', 'Inconsolata', 'Noto Sans TC'; font-size: 250%; font-weight: 700;\">\n",
    "f-string進化論-4.1\n",
    "</div>\n",
    "<br>\n",
    "<div style=\"font-family: 'Inconsolata', 'Noto Sans TC'; font-size: 135%; color: Gainsboro\">\n",
    "\n",
    "* Errors within f-string expressions now yield the exact location of the error within the enclosing statement, not just within the expression itself. This makes f-string errors easier to track down and troubleshoot.\n",
    "* For example, in Python 3.11, the following f-string raises a SyntaxError:"
   ]
  },
  {
   "cell_type": "code",
   "execution_count": null,
   "metadata": {},
   "outputs": [],
   "source": [
    "my_string = f\"{x z y}\" + f\"{1 + 1}\""
   ]
  },
  {
   "cell_type": "markdown",
   "metadata": {},
   "source": [
    "<div style=\"color: DarkSalmon; font-family: 'Ubuntu Mono', 'Inconsolata', 'Noto Sans TC'; font-size: 250%; font-weight: 700;\">\n",
    "f-string進化論-4.2\n",
    "</div>\n",
    "<br>\n",
    "<div style=\"font-family: 'Inconsolata', 'Noto Sans TC'; font-size: 135%; color: Gainsboro\">\n",
    "\n",
    "* but the error message doesn’t include the exact location of the error within the line and also has the expression artificially surrounded by parentheses. In Python 3.12, as f-strings are parsed with the PEG parser, error messages can be more precise and show the entire line:"
   ]
  },
  {
   "cell_type": "code",
   "execution_count": null,
   "metadata": {},
   "outputs": [],
   "source": [
    "my_string = f\"{x z y}\" + f\"{1 + 1}\""
   ]
  },
  {
   "cell_type": "markdown",
   "metadata": {},
   "source": [
    "<div style=\"color: SteelBlue; font-family: 'Ubuntu Mono', 'Inconsolata', 'Noto Sans TC'; font-size: 300%; font-weight: 700;\">\n",
    "2. Python較少用的運算子\n",
    "</div>\n",
    "<br>\n",
    "<div style=\"font-family: 'Inconsolata', 'Noto Sans TC'; font-size: 135%; color: Gainsboro\">\n",
    "\n",
    "* Python除了大名鼎鼎的`walrus operator`外，還有些無聊人士為幾個較為少見的運算子起了些怪異名稱。不過據筆者了解，這些名稱並沒有為廣為流行，只是少數人的戲謔罷了。除了第一個真正有意義，其餘僅為「博君一粲」。\n"
   ]
  },
  {
   "cell_type": "markdown",
   "metadata": {},
   "source": [
    "<div style=\"color: DarkSalmon; font-family: 'Ubuntu Mono', 'Inconsolata', 'Noto Sans TC'; font-size: 250%; font-weight: 700;\">\n",
    "\n",
    "2.1 '<span style=\"color: Gold;\">+=</span>'運算子-1\n",
    "</div>\n",
    "\n",
    "<div style=\"font-family: 'Inconsolata', 'Noto Sans TC'; font-size: 135%; color: Gainsboro\">\n",
    "\n",
    "* 無聊人士倒沒有給這個運算子怪異名稱。\n",
    "* 但是...What？你這小子竟然將<span style=\"color: Gold; font-size: 125%; font-weight: 700;\">+=</span>運算子歸類到「較少用運算子」之首？當我們完全沒碰過Python嗎？\n",
    "* <span style=\"color: Gold; font-size: 125%; font-weight: 700;\">+=</span>當然不是較少用的運算子。反之，它應該是最常用的運算子之一。\n",
    "* 在這裡提到<span style=\"color: Gold; font-size: 125%; font-weight: 700;\">+=</span>事出有因，且聽筆者慢慢道來：\n",
    "    * Python入門課有教：`x = x + y`可以簡化為`x += y`。這就是<span style=\"color: Gold; font-size: 125%; font-weight: 700;\">+=</span>運算子(註1)的用途。所以：\n",
    "        |<center><font color=Coral>原語法|<center><font color=Coral>等效語法|<center><font color=Coral>備註|\n",
    "        |--|--|--|\n",
    "        |`score = score + 10`|`score += 10`|`score`要是int或float|\n",
    "        |`name = name + ' Van'`|`name += ' Van'`|`name`要是str|\n",
    "        \n",
    "        註1：\n",
    "        1. 不只Python，很多其他程式語言都有這個運算子。\n",
    "        2. 這個運算子其實只是個syntactic sugar(語法甜頭)，沒啥神奇。"
   ]
  },
  {
   "cell_type": "markdown",
   "metadata": {},
   "source": [
    "<div style=\"text-align:center\"><img src=\"https://hackmd.io/_uploads/rJKNCFa53.jpg\" width=\"600\"/></div>"
   ]
  },
  {
   "cell_type": "code",
   "execution_count": null,
   "metadata": {},
   "outputs": [],
   "source": [
    "score = 50\n",
    "score = score + 10        # 傳統的 x = x + y\n",
    "print(f'1. {score = }')\n",
    "# --------\n",
    "score = 50\n",
    "score += 10               # 語法甜頭的 x += y\n",
    "print(f'2. {score = }')   # 1. 2. 等效\n",
    "# =====================\n",
    "name = 'Alex'\n",
    "name = name + ' Van'      # 傳統的 x = x + y\n",
    "print(f'3. {name = }')\n",
    "# --------\n",
    "name = 'Alex'\n",
    "name += ' Van'            # 語法甜頭的 x += y\n",
    "print(f'4. {name = }')    # 3. 4. 等效"
   ]
  },
  {
   "cell_type": "markdown",
   "metadata": {},
   "source": [
    "<div style=\"color: DarkSalmon; font-family: 'Ubuntu Mono', 'Inconsolata', 'Noto Sans TC'; font-size: 250%; font-weight: 700;\">\n",
    "\n",
    "2.1 '<span style=\"color: Gold;\">+=</span>'運算子-2\n",
    "</div>\n",
    "\n",
    "<div style=\"font-family: 'Inconsolata', 'Noto Sans TC'; font-size: 135%; color: Gainsboro\">\n",
    "\n",
    "* 可是，不同性質的物件基本上不可以相加或做其他四則運算，這也是Python的基本知識。\n",
    "* 例如：\n",
    "    * <span style=\"color: #993232; font-size: 130%; font-weight: 800;\">✗ str + int</span>\n",
    "    * <span style=\"color: #993232; font-size: 130%; font-weight: 800;\">✗ list + str</span>"
   ]
  },
  {
   "cell_type": "code",
   "execution_count": null,
   "metadata": {},
   "outputs": [],
   "source": [
    "# str + int的例子：\n",
    "name = 'Alex'\n",
    "score = 60\n",
    "# name = name + score       # 不能str + int\n",
    "name += score             # 所以也不能用+=\n",
    "print(f'{name = }')"
   ]
  },
  {
   "cell_type": "code",
   "execution_count": 20,
   "metadata": {},
   "outputs": [
    {
     "data": {
      "text/plain": [
       "140283333750144"
      ]
     },
     "execution_count": 20,
     "metadata": {},
     "output_type": "execute_result"
    },
    {
     "data": {
      "text/plain": [
       "140283333750144"
      ]
     },
     "execution_count": 20,
     "metadata": {},
     "output_type": "execute_result"
    },
    {
     "name": "stdout",
     "output_type": "stream",
     "text": [
      "trunk = ['a', 'b', 'c', 'd', 'x', 'y', 'z']\n"
     ]
    }
   ],
   "source": [
    "# list + str的例子：\n",
    "trunk = ['a', 'b', 'c', 'd']\n",
    "# id(trunk)\n",
    "branch = 'xy'\n",
    "# trunk = trunk + branch   # 不能list + str\n",
    "trunk += branch    # 所以也不能用+=\n",
    "# id(trunk)\n",
    "print(f'{trunk = }')"
   ]
  },
  {
   "cell_type": "markdown",
   "metadata": {},
   "source": [
    "<div style=\"color: DarkSalmon; font-family: 'Ubuntu Mono', 'Inconsolata', 'Noto Sans TC'; font-size: 250%; font-weight: 700;\">\n",
    "\n",
    "2.1 '<span style=\"color: Gold;\">+=</span>'運算子-3\n",
    "</div>\n",
    "\n",
    "<div style=\"color: #EE4F08; font-family: 'Ubuntu Mono', 'Inconsolata', 'Noto Sans TC'; font-size: 1000%; font-weight: 700; text-align: center;\">\n",
    "Why?\n",
    "</div>\n",
    "<br>\n",
    "\n",
    "<div style=\"font-family: 'Inconsolata', 'Noto Sans TC'; font-size: 135%; color: Gainsboro\">\n",
    "\n",
    "* 感覺這個問題的答案變得好像沒那麼肯定...\n",
    "* 以下答案基本上是ChatGPT所給，經筆者潤飾修訂：\n",
    "---"
   ]
  },
  {
   "cell_type": "markdown",
   "metadata": {},
   "source": [
    "<div style=\"text-align:left;\"><img src=\"https://hackmd.io/_uploads/rymKfp0qh.png\" width=\"460\" style=\"border-left: 230px black solid;\"/></div>"
   ]
  },
  {
   "cell_type": "markdown",
   "metadata": {},
   "source": [
    "<div style=\"color: DarkSalmon; font-family: 'Ubuntu Mono', 'Inconsolata', 'Noto Sans TC'; font-size: 250%; font-weight: 700;\">\n",
    "2.1 '<span style=\"color: Gold;\">+=</span>'運算子-4\n",
    "</div>\n",
    "\n",
    "<div style=\"font-family: 'Inconsolata', 'Noto Sans TC'; font-size: 135%; color: Gainsboro\">\n",
    "\n",
    "* Good question! These two lines of code might seem to do the same thing, but <span style=\"color: salmon; font-size: 110%; font-weight: 700;\">they are subtly different due to how Python treats the <span style=\"color: Gold; font-size: 125%; font-weight: 700;\">+=</span> operator for lists</span>.\n",
    "* In the first snippet:\n",
    "    <div style=\"text-align:left;\"><img src=\"https://hackmd.io/_uploads/B1_g88C93.png\" width=\"500\" style=\"border-left: 30px black solid;\"/></div>\n",
    "* <span style=\"color: salmon; font-size: 110%; font-weight: 800;\">The <span style=\"color: Gold; font-size: 125%; font-weight: 700;\">+=</span> operator for a list in Python is equivalent to the <span style=\"color: Lime;\">extend method</span> of a list</span>, which appends the elements of the iterable (in this case, the string 'xy') to the end of the list. <span style=\"color: salmon; font-size: 110%; font-weight: 800;\">In this case, the string 'xy' is considered an iterable of characters</span>, and each character is appended to the list one by one.\n",
    "* In the code snippet:\n",
    "    <div style=\"text-align:left;\"><img src=\"https://hackmd.io/_uploads/rke79NR5n.png\" width=\"500\" style=\"border-left: 30px black solid;\"/></div>\n",
    "* Here, <span style=\"color: salmon; font-size: 110%; font-weight: 800;\">the <span style=\"color: LightSkyBlue; font-size: 125%; font-weight: 700;\">+</span> operator is attempting to concatenate a list with a string, which is not allowed in Python</span>. When <span style=\"color: LightSkyBlue; font-size: 125%; font-weight: 700;\">+</span> is used with a list, Python expects another list on the other side of the <span style=\"color: LightSkyBlue; font-size: 125%; font-weight: 700;\">+</span> to concatenate the two lists together. When it finds any object(even an iterable) rather than a list, it throws a TypeError. In other words, the <span style=\"color: LightSkyBlue; font-size: 125%; font-weight: 700;\">+</span> operator only works specifically with other lists.\n",
    "* So, while `x += y` and `x = x + y` may seem similar, <span style=\"color: salmon; font-size: 110%; font-weight: 800;\">the way Python implements these operations for lists makes them behave differently</span>. Specifically, <span style=\"color: salmon; font-size: 110%; font-weight: 800;\"><span style=\"color: Gold; font-size: 125%; font-weight: 700;\">+=</span> uses the extend method behind the scenes, allowing it to handle strings</span> (which are seen as a list of characters), whereas <span style=\"color: salmon; font-size: 110%; font-weight: 800;\"><span style=\"color: LightSkyBlue; font-size: 125%; font-weight: 700;\">+</span> for a list expects another list</span> and cannot handle other types of objects.\n",
    "* The reasoning behind this behavior in Python is rooted in the principle of \"practicality beats purity,\" which is one of the guiding principles of Python (see the Zen of Python, by Tim Peters). In other words, <span style=\"color: salmon; font-size: 110%; font-weight: 800;\">Python's design often favors use-cases that are common and practical, even if it may seem inconsistent in some edge cases</span>.\n",
    "* The <span style=\"color: Gold; font-size: 125%; font-weight: 700;\">+=</span> operator is an example of an \"in-place\" operation. In the context of a list, the <span style=\"color: Gold; font-size: 125%; font-weight: 700;\">+=</span> operator is implemented as an in-place addition, <span style=\"color: salmon; font-size: 110%; font-weight: 800;\">meaning it modifies the original list rather than creating a new one. This is analogous to the list.extend() method, which also adds elements to the original list in-place</span>.\n",
    "* On the other hand, <span style=\"color: Salmon; font-size: 110%; font-weight: 800;\">the <span style=\"color: LightSkyBlue; font-size: 125%; font-weight: 700;\">+</span> operator for lists is not an in-place operation</span>. When you use <span style=\"color: LightSkyBlue; font-size: 125%; font-weight: 700;\">+</span> to add two lists together, it creates a new list that contains the elements of both lists. It does not modify either of the original lists.\n",
    "* For strings, Python developers made the design decision to treat strings as an iterable sequence of characters. This allows you to do things like iterate over a string in a for loop, or use a string as input to the list.extend() method (or the <span style=\"color: Gold; font-size: 125%; font-weight: 700;\">+=</span> operator for a list), with each character becoming a separate element in the list.\n",
    "* So, the reason why list <span style=\"color: Gold; font-size: 125%; font-weight: 700;\">+=</span> string works but list = list <span style=\"color: LightSkyBlue; font-size: 125%; font-weight: 700;\">+</span> string doesn't is because of the way these operations are implemented in Python:\n",
    "    * <span style=\"color: salmon; font-size: 110%; font-weight: 800;\">list <span style=\"color: Gold; font-size: 125%; font-weight: 700;\">+=</span> string is treated as an in-place addition, which is implemented similarly to list.extend()</span>. It iterates over the string, treating it as a sequence of characters, and adds each character to the list.\n",
    "    * <span style=\"color: salmon; font-size: 110%; font-weight: 800;\">list = list + string tries to concatenate a list and a string, which is not allowed because <span style=\"color: LightSkyBlue; font-size: 125%; font-weight: 700;\">+</span> for lists expects another list as its operand</span>.\n",
    "* Even though this behavior may seem inconsistent, it is quite practical in many use-cases, which is why it was designed this way."
   ]
  },
  {
   "cell_type": "code",
   "execution_count": 21,
   "metadata": {},
   "outputs": [
    {
     "name": "stdout",
     "output_type": "stream",
     "text": [
      "The Zen of Python, by Tim Peters\n",
      "\n",
      "Beautiful is better than ugly.\n",
      "Explicit is better than implicit.\n",
      "Simple is better than complex.\n",
      "Complex is better than complicated.\n",
      "Flat is better than nested.\n",
      "Sparse is better than dense.\n",
      "Readability counts.\n",
      "Special cases aren't special enough to break the rules.\n",
      "Although practicality beats purity.\n",
      "Errors should never pass silently.\n",
      "Unless explicitly silenced.\n",
      "In the face of ambiguity, refuse the temptation to guess.\n",
      "There should be one-- and preferably only one --obvious way to do it.\n",
      "Although that way may not be obvious at first unless you're Dutch.\n",
      "Now is better than never.\n",
      "Although never is often better than *right* now.\n",
      "If the implementation is hard to explain, it's a bad idea.\n",
      "If the implementation is easy to explain, it may be a good idea.\n",
      "Namespaces are one honking great idea -- let's do more of those!\n"
     ]
    }
   ],
   "source": [
    "import this"
   ]
  },
  {
   "cell_type": "markdown",
   "metadata": {},
   "source": [
    "<div style=\"color: DarkSalmon; font-family: 'Ubuntu Mono', 'Inconsolata', 'Noto Sans TC'; font-size: 250%; font-weight: 700;\">\n",
    "2.2 Ski Hat Operator(滑雪帽運算子)\n",
    "</div>\n",
    "\n",
    "<br>\n",
    "<div style=\"font-family: 'Inconsolata', 'Noto Sans TC'; font-size: 135%; color: Gainsboro\">\n",
    "\n",
    "* The <span style=\"color: Gold; font-size: 110%; font-weight: 800;\">ski hat operator</span>, written as <span style=\"color: Crimson; font-size: 150%; font-weight: 800;\">*=0</span>, can be used to empty out a variable, be it a list, string, tuple, or numeric value.\n",
    "* 這個運算子可用來「清空」一個變數，不管這個變數是list, tuple, 字串, 或數字。\n",
    "* 請看以下範例："
   ]
  },
  {
   "cell_type": "code",
   "execution_count": 22,
   "metadata": {},
   "outputs": [
    {
     "name": "stdout",
     "output_type": "stream",
     "text": [
      "before:  id(age) = 11667336             age = 39\n",
      "after :  id(age) = 11666088             age = 0\n",
      "--------------------\n",
      "before:  id(name) = 140283701582016     name = 'Alex'\n",
      "after :  id(name) = 11687440            name = ''\n",
      "--------------------\n",
      "before:  id(items) = 140283335257408    items = [1, 2, 3]\n",
      "after :  id(items) = 140283335257408    items = []\n",
      "--------------------\n",
      "before:  id(items) = 140283333894208    items = (1, 2, 3)\n",
      "after :  id(items) = 11739080           items = ()\n"
     ]
    }
   ],
   "source": [
    "LENGTH = 40\n",
    "# 數字歸零。\n",
    "age = 39\n",
    "print(f'{(before := f\"before:  {id(age) = }\"):{LENGTH}}{age = }')\n",
    "age *= 0\n",
    "print(f'{(after  := f\"after :  {id(age) = }\"):{LENGTH}}{age = }')\n",
    "print('-'*20)\n",
    "\n",
    "name = 'Alex'\n",
    "print(f'{(before := f\"before:  {id(name) = }\"):{LENGTH}}{name = }')\n",
    "name *= 0\n",
    "print(f'{(after := f\"after :  {id(name) = }\"):{LENGTH}}{name = }')\n",
    "print('-'*20)\n",
    "\n",
    "items = [1, 2, 3]\n",
    "print(f'{(before := f\"before:  {id(items) = }\"):{LENGTH}}{items = }')\n",
    "items *= 0\n",
    "print(f'{(after := f\"after :  {id(items) = }\"):{LENGTH}}{items = }')\n",
    "print('-'*20)\n",
    "\n",
    "items = (1, 2, 3)\n",
    "print(f'{(before := f\"before:  {id(items) = }\"):{LENGTH}}{items = }')\n",
    "items *= 0\n",
    "print(f'{(after := f\"after :  {id(items) = }\"):{LENGTH}}{items = }')\n",
    "\n",
    "# 不能用在set。\n",
    "# items = {1, 2, 3}\n",
    "# print(f'{(before := f\"before:  {id(items) = }\"):{LENGTH}}{items = }')\n",
    "# items *= 0\n",
    "# print(f'{(after := f\"after :  {id(items) = }\"):{LENGTH}}{items = }')\n",
    "\n",
    "# 不能用在dict。\n",
    "# items = {'id': 1, 'name': 'Alex', 'age': 39}\n",
    "# print(f'{(before := f\"before:  {id(items) = }\"):{LENGTH}}{items = }')\n",
    "# items *= 0\n",
    "# print(f'{(after := f\"after :  {id(items) = }\"):{LENGTH}}{items = }')"
   ]
  },
  {
   "cell_type": "markdown",
   "metadata": {},
   "source": [
    "<div style=\"color: DarkSalmon; font-family: 'Ubuntu Mono', 'Inconsolata', 'Noto Sans TC'; font-size: 250%; font-weight: 700;\">\n",
    "2.3 Dumbbell Operator(啞鈴運算子)-1\n",
    "</div>\n",
    "<br>\n",
    "<div style=\"font-family: 'Inconsolata', 'Noto Sans TC'; font-size: 135%; color: Gainsboro\">\n",
    "\n",
    "* 先看下面的code。\n",
    "* 以list為例，使用slicing(切片)其實會製造出一個新的list，這個新list和原來的list在記憶體的位址並不相同。\n"
   ]
  },
  {
   "cell_type": "code",
   "execution_count": 24,
   "metadata": {},
   "outputs": [
    {
     "name": "stdout",
     "output_type": "stream",
     "text": [
      "id(items)    = 140283333760704         items    = [1, 2, 3]\n",
      "id(items[:]) = 140283332605568         items[:] = [1, 2, 3]\n",
      "\n",
      "items[:]     = [5, 0]\n",
      "items        = [5, 0]\n",
      "id(items)    = 140283333760704         \n",
      "id(items[:]) = 140283332605568         \n"
     ]
    }
   ],
   "source": [
    "LENGTH = 24\n",
    "items = [1, 2, 3]\n",
    "print(f'{id(items)    = :<{LENGTH}}{items    = }')\n",
    "print(f'{id(items[:]) = :<{LENGTH}}{items[:] = }')\n",
    "print()\n",
    "# 請猜下面會印出甚麼。\n",
    "items[:] = [5, 0]\n",
    "print(f'{items[:]     = }')\n",
    "print(f'{items        = }')\n",
    "print(f'{id(items)    = :<{LENGTH}}')\n",
    "print(f'{id(items[:]) = :<{LENGTH}}')"
   ]
  },
  {
   "cell_type": "markdown",
   "metadata": {},
   "source": [
    "<div style=\"color: DarkSalmon; font-family: 'Ubuntu Mono', 'Inconsolata', 'Noto Sans TC'; font-size: 250%; font-weight: 700;\">\n",
    "2.3 Dumbbell Operator(啞鈴運算子)-2\n",
    "</div>\n",
    "\n",
    "<div style=\"font-family: 'Inconsolata', 'Noto Sans TC'; font-size: 135%; color: Gainsboro\">\n",
    "\n",
    "* The <span style=\"color: Gold; font-size: 110%; font-weight: 800;\">dumbbell operator</span>, written as <span style=\"color: Crimson; font-size: 130%; font-weight: 800;\">[:]=[]</span>, can also be used to empty a list, but is not as versatile as the ski hat operator, as it only works for lists (and a few other lesser-used types).\n",
    "\n",
    "* After the following code, items will be an empty list:"
   ]
  },
  {
   "cell_type": "code",
   "execution_count": 25,
   "metadata": {},
   "outputs": [
    {
     "name": "stdout",
     "output_type": "stream",
     "text": [
      "before: items = [1, 2, 3]\n",
      "after : items = []\n"
     ]
    }
   ],
   "source": [
    "items = [1, 2, 3]\n",
    "print(f'before: {items = }')\n",
    "items[:] = []    # 像不像啞鈴？\n",
    "print(f'after : {items = }')"
   ]
  },
  {
   "cell_type": "markdown",
   "metadata": {},
   "source": [
    "<div style=\"color: DarkSalmon; font-family: 'Ubuntu Mono', 'Inconsolata', 'Noto Sans TC'; font-size: 250%; font-weight: 700;\">\n",
    "2.4 Lapping Cat Operator(舔猫運算子)\n",
    "</div>\n",
    "\n",
    "<br>\n",
    "<div style=\"font-family: 'Inconsolata', 'Noto Sans TC'; font-size: 135%; color: Gainsboro\">\n",
    "\n",
    "* The <span style=\"color: Gold; font-size: 110%; font-weight: 800;\">lapping cat operator</span>, written as <span style=\"color: Crimson; font-size: 130%; font-weight: 800;\">,=,</span> picks out the first element of an iterable and asserts that the iterable has exactly one element.\n",
    "\n",
    "* After the following code, first is 1."
   ]
  },
  {
   "cell_type": "code",
   "execution_count": 26,
   "metadata": {},
   "outputs": [
    {
     "name": "stdout",
     "output_type": "stream",
     "text": [
      "1. first = [7, 9]\tsecond = [5, 6]\n",
      "2. first = 3\t\tsecond = 4\n",
      "3. first = 3\t\tsecond = 4\n",
      "4. first = 3\t\tsecond = 3\n"
     ]
    }
   ],
   "source": [
    "first = [7, 9]\n",
    "second = [5, 6]\n",
    "print(f'1. {first = }\\t{second = }')\n",
    "\n",
    "# --------------\n",
    "items = (3, 4)\n",
    "first, second = items\n",
    "print(f'2. {first = }\\t\\t{second = }')\n",
    "\n",
    "first = items[0]\n",
    "second = items[1]\n",
    "print(f'3. {first = }\\t\\t{second = }')\n",
    "\n",
    "items = (3,)\n",
    "first, = items   # 只能有1個元素。\n",
    "second, = items\n",
    "print(f'4. {first = }\\t\\t{second = }')"
   ]
  },
  {
   "cell_type": "markdown",
   "metadata": {},
   "source": [
    "<div style=\"color: SteelBlue; font-family: 'Ubuntu Mono', 'Inconsolata', 'Noto Sans TC'; font-size: 300%; font-weight: 700;\">\n",
    "3. Class Level Attributes\n",
    "</div>\n",
    "<br>\n",
    "<div style=\"font-family: 'Inconsolata', 'Noto Sans TC'; font-size: 135%; color: Gainsboro\">"
   ]
  },
  {
   "cell_type": "markdown",
   "metadata": {},
   "source": [
    "<div style=\"text-align:center\"><img src=\"https://hackmd.io/_uploads/Skc81vxza.png\" width=\"800\"/></div>"
   ]
  },
  {
   "cell_type": "code",
   "execution_count": null,
   "metadata": {},
   "outputs": [],
   "source": [
    "class CoinCollector:\n",
    "  collectors: dict = {}\n",
    "  def __init__(self, id: int, coins: int = 1):\n",
    "      self.id = id\n",
    "      self.coins = coins\n",
    "      CoinCollector.collectors[id] = self\n",
    "  def give_coins(self, id: int, count: int = 1):\n",
    "      CoinCollector.collectors[id].coins += count\n",
    "      self.coins -= count\n",
    "\n",
    "_ = CoinCollector(1, 2)\n",
    "_ = CoinCollector(2)\n",
    "_ = CoinCollector(3, 3)\n",
    "CoinCollector.collectors[1].give_coins(id=2, count=2)\n",
    "CoinCollector.collectors[2].give_coins(id=3, count=0)\n",
    "CoinCollector.collectors[3].give_coins(id=1)\n",
    "print(f'{CoinCollector.collectors[1].coins = }')\n",
    "print(f'{CoinCollector.collectors[2].coins = }')\n",
    "print(f'{CoinCollector.collectors[3].coins = }')"
   ]
  },
  {
   "cell_type": "markdown",
   "metadata": {},
   "source": [
    "<div style=\"text-align:center\"><img src=\"\" width=\"850\"/></div>"
   ]
  },
  {
   "cell_type": "markdown",
   "metadata": {},
   "source": [
    "<div style=\"color: SteelBlue; font-family: 'Ubuntu Mono', 'Inconsolata', 'Noto Sans TC'; font-size: 300%; font-weight: 700;\">\n",
    "4. Multiple Inputs in One Go\n",
    "</div>\n",
    "<br>\n",
    "<div style=\"font-family: 'Inconsolata', 'Noto Sans TC'; font-size: 135%; color: Gainsboro\">"
   ]
  },
  {
   "cell_type": "code",
   "execution_count": null,
   "metadata": {},
   "outputs": [],
   "source": [
    "# 需求：程式要取得從鍵盤輸入的5個名字。\n",
    "# v1. 就寫5個input's吧：\n",
    "names = []\n",
    "names.append(input('請輸入第1個名字：'))\n",
    "names.append(input('請輸入第2個名字：'))\n",
    "names.append(input('請輸入第3個名字：'))\n",
    "names.append(input('請輸入第4個名字：'))\n",
    "names.append(input('請輸入第5個名字：'))\n",
    "print(f'{names = }')"
   ]
  },
  {
   "cell_type": "markdown",
   "metadata": {},
   "source": [
    "<div style=\"color: DarkSalmon; font-family: 'Ubuntu Mono', 'Inconsolata', 'Noto Sans TC'; font-size: 250%; font-weight: 700;\">\n",
    "4.1 用腳趾想都知道，這不是在寫程式\n",
    "</div>\n",
    "<br>\n",
    "<div style=\"font-family: 'Inconsolata', 'Noto Sans TC'; font-size: 135%; color: Gainsboro\">\n",
    "\n",
    "* 最少不是在寫「好」的程式。\n",
    "* 改進之道，一般人馬上想到的應該就是："
   ]
  },
  {
   "cell_type": "code",
   "execution_count": null,
   "metadata": {},
   "outputs": [],
   "source": [
    "# v2. For loop(迴圈)\n",
    "names = []\n",
    "COUNT_NAMES = 5\n",
    "for i in range(1, 1 + COUNT_NAMES):\n",
    "    names.append(input(f'請輸入第{i}個名字：'))\n",
    "print(f'{names = }')"
   ]
  },
  {
   "cell_type": "code",
   "execution_count": null,
   "metadata": {},
   "outputs": [],
   "source": [
    "# v3. 或者用comprehension。\n",
    "COUNT_NAMES = 5\n",
    "names = [input(f'請輸入第{i}個名字：') for i in range(1, 1 + COUNT_NAMES)]\n",
    "print(f'{names = }')"
   ]
  },
  {
   "cell_type": "markdown",
   "metadata": {},
   "source": [
    "<div style=\"color: DarkSalmon; font-family: 'Ubuntu Mono', 'Inconsolata', 'Noto Sans TC'; font-size: 250%; font-weight: 700;\">\n",
    "4.2 其實也可以...\n",
    "</div>\n",
    "<br>\n",
    "<div style=\"font-family: 'Inconsolata', 'Noto Sans TC'; font-size: 135%; color: Gainsboro\">\n",
    "\n",
    "* 直接在input()函數動手腳："
   ]
  },
  {
   "cell_type": "code",
   "execution_count": null,
   "metadata": {},
   "outputs": [],
   "source": [
    "# v4. 用split()切割輸入的字串。\n",
    "names = input(\"請輸入5個名字，以空白區隔：\").split()\n",
    "print(f'{names = }')"
   ]
  },
  {
   "cell_type": "markdown",
   "metadata": {},
   "source": [
    "<div style=\"color: SteelBlue; font-family: 'Ubuntu Mono', 'Inconsolata', 'Noto Sans TC'; font-size: 300%; font-weight: 700;\">\n",
    "5. Logical Operators and ...\n",
    "</div>\n",
    "<br>\n",
    "<div style=\"font-family: 'Inconsolata', 'Noto Sans TC'; font-size: 135%; color: Gainsboro\">"
   ]
  },
  {
   "cell_type": "markdown",
   "metadata": {},
   "source": [
    "<div style=\"text-align:center\"><img src=\"https://hackmd.io/_uploads/S1v9-alma.jpg\" width=\"750\"/></div>"
   ]
  },
  {
   "cell_type": "code",
   "execution_count": null,
   "metadata": {},
   "outputs": [],
   "source": [
    "old_nums = [0, 1, 2, 3, 4, 5]\n",
    "new_nums1 = [print(num, end='_ ') and num for num in old_nums if num % 2 == 0]\n",
    "new_nums2 = [print(num, end='. ') or num for num in old_nums if num % 2 == 0]\n",
    "new_nums3 = [num and print(num, end='+ ') for num in old_nums if num % 2 == 0]\n",
    "new_nums4 = [num or print(num, end='/ ') for num in old_nums if num % 2 == 0]\n",
    "print()\n",
    "print(f'{new_nums1 = }')\n",
    "print(f'{new_nums2 = }')\n",
    "print(f'{new_nums3 = }')\n",
    "print(f'{new_nums4 = }')"
   ]
  },
  {
   "cell_type": "markdown",
   "metadata": {},
   "source": [
    "<div style=\"color: DarkSalmon; font-family: 'Ubuntu Mono', 'Inconsolata', 'Noto Sans TC'; font-size: 250%; font-weight: 700;\">\n",
    "5.1 這幾行code snippet涉及語法和觀念\n",
    "</div>\n",
    "<br>\n",
    "<div style=\"font-family: 'Inconsolata', 'Noto Sans TC'; font-size: 135%; color: Gainsboro\">\n",
    "\n",
    "* comprehensions\n",
    "* expressions vs statements (我之前周四時有報告過)\n",
    "* return values of Python functions/methods\n",
    "* short-circuiting in boolean operators"
   ]
  },
  {
   "cell_type": "markdown",
   "metadata": {},
   "source": [
    "<div style=\"text-align:center\"><img src=\"https://hackmd.io/_uploads/r1mSyb9Ja.png\" width=\"350\"/></div>"
   ]
  },
  {
   "cell_type": "code",
   "execution_count": null,
   "metadata": {},
   "outputs": [],
   "source": []
  },
  {
   "cell_type": "code",
   "execution_count": null,
   "metadata": {},
   "outputs": [],
   "source": []
  },
  {
   "cell_type": "code",
   "execution_count": null,
   "metadata": {},
   "outputs": [],
   "source": []
  },
  {
   "cell_type": "code",
   "execution_count": null,
   "metadata": {},
   "outputs": [],
   "source": []
  },
  {
   "cell_type": "code",
   "execution_count": null,
   "metadata": {},
   "outputs": [],
   "source": []
  },
  {
   "cell_type": "code",
   "execution_count": null,
   "metadata": {},
   "outputs": [],
   "source": []
  },
  {
   "cell_type": "code",
   "execution_count": null,
   "metadata": {},
   "outputs": [],
   "source": []
  },
  {
   "cell_type": "code",
   "execution_count": null,
   "metadata": {},
   "outputs": [],
   "source": []
  },
  {
   "cell_type": "code",
   "execution_count": null,
   "metadata": {},
   "outputs": [],
   "source": []
  },
  {
   "cell_type": "code",
   "execution_count": null,
   "metadata": {},
   "outputs": [],
   "source": []
  },
  {
   "cell_type": "code",
   "execution_count": null,
   "metadata": {},
   "outputs": [],
   "source": []
  },
  {
   "cell_type": "markdown",
   "metadata": {},
   "source": [
    "<div style=\"color: SteelBlue; font-family: 'Ubuntu Mono', 'Inconsolata', 'Noto Sans TC'; font-size: 300%; font-weight: 700;\">\n",
    "3. Python的拉鏈: zip()\n",
    "</div>\n",
    "<br>\n",
    "<div style=\"font-family: 'Inconsolata', 'Noto Sans TC'; font-size: 135%; color: Gainsboro\">"
   ]
  },
  {
   "cell_type": "markdown",
   "metadata": {},
   "source": [
    "<div style=\"color: SteelBlue; font-family: 'Ubuntu Mono', 'Inconsolata', 'Noto Sans TC'; font-size: 300%; font-weight: 700;\">\n",
    "4. From Sequence to Generator\n",
    "</div>\n",
    "<br>\n",
    "<div style=\"font-family: 'Inconsolata', 'Noto Sans TC'; font-size: 135%; color: Gainsboro\">"
   ]
  },
  {
   "cell_type": "code",
   "execution_count": null,
   "metadata": {},
   "outputs": [],
   "source": []
  },
  {
   "cell_type": "code",
   "execution_count": null,
   "metadata": {},
   "outputs": [],
   "source": []
  },
  {
   "cell_type": "code",
   "execution_count": null,
   "metadata": {},
   "outputs": [],
   "source": []
  },
  {
   "cell_type": "code",
   "execution_count": null,
   "metadata": {},
   "outputs": [],
   "source": []
  }
 ],
 "metadata": {
  "kernelspec": {
   "display_name": "Python 3",
   "language": "python",
   "name": "python3"
  },
  "language_info": {
   "codemirror_mode": {
    "name": "ipython",
    "version": 3
   },
   "file_extension": ".py",
   "mimetype": "text/x-python",
   "name": "python",
   "nbconvert_exporter": "python",
   "pygments_lexer": "ipython3",
   "version": "3.12.0"
  }
 },
 "nbformat": 4,
 "nbformat_minor": 2
}
