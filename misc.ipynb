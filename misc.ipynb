{
 "cells": [
  {
   "cell_type": "markdown",
   "metadata": {},
   "source": [
    "<br><br><br>\n",
    "<div style=\"font-family: 'Gen Jyuu Gothic Monospace Medium', 'Noto Sans TC', 'Inconsolata'; font-size: 600%; font-weight: 700; text-align: center; color: #A5D178;\">\n",
    "東邪西毒話Py常\n",
    "<br>\n",
    "<br>\n",
    "<br>\n",
    "<!-- <div style=\"font-family: 'Inconsolata', 'Noto Sans TC'; font-size: 180%; text-align: center;\"> -->\n",
    "\n",
    "</div>"
   ]
  },
  {
   "cell_type": "code",
   "execution_count": 3,
   "metadata": {},
   "outputs": [
    {
     "data": {
      "application/javascript": "// 設定output文字顏色。\n// document.styleSheets[0].addRule('body', 'color: #FFFF84 !important;')\ndocument.styleSheets[0].addRule('body', 'color: Plum !important;')\n",
      "text/plain": [
       "<IPython.core.display.Javascript object>"
      ]
     },
     "metadata": {},
     "output_type": "display_data"
    }
   ],
   "source": [
    "%%javascript\n",
    "// 設定output文字顏色。\n",
    "// document.styleSheets[0].addRule('body', 'color: #FFFF84 !important;')\n",
    "document.styleSheets[0].addRule('body', 'color: Plum !important;')"
   ]
  },
  {
   "cell_type": "markdown",
   "metadata": {},
   "source": [
    "<div style=\"color: SteelBlue; font-family: 'Ubuntu Mono', 'Inconsolata', 'Noto Sans TC'; font-size: 300%; font-weight: 700;\">\n",
    "第一層標題\n",
    "</div>\n",
    "<br>\n",
    "<div style=\"font-family: 'Inconsolata', 'Noto Sans TC'; font-size: 135%; color: Gainsboro\">"
   ]
  },
  {
   "cell_type": "markdown",
   "metadata": {},
   "source": [
    "<div style=\"color: DarkSalmon; font-family: 'Ubuntu Mono', 'Inconsolata', 'Noto Sans TC'; font-size: 250%; font-weight: 700;\">\n",
    "第二層標題\n",
    "</div>\n",
    "<br>\n",
    "<div style=\"font-family: 'Inconsolata', 'Noto Sans TC'; font-size: 135%; color: Gainsboro\">"
   ]
  },
  {
   "cell_type": "markdown",
   "metadata": {},
   "source": [
    "<div style=\"color: YellowGreen; font-family: 'Ubuntu Mono', 'Inconsolata', 'Noto Sans TC'; font-size: 200%; font-weight: 700;\">\n",
    "第三層標題\n",
    "</div>\n",
    "<br>\n",
    "<div style=\"font-family: 'Inconsolata', 'Noto Sans TC'; font-size: 135%; color: Gainsboro\">\n"
   ]
  },
  {
   "cell_type": "markdown",
   "metadata": {},
   "source": [
    "<div style=\"color: LemonChiffon; font-family: 'Ubuntu Mono', 'Inconsolata', 'Noto Sans TC'; font-size: 150%; font-weight: 700;\">\n",
    "第四層標題\n",
    "</div>\n",
    "<br>\n",
    "<div style=\"font-family: 'Inconsolata', 'Noto Sans TC'; font-size: 135%; color: Gainsboro\">\n"
   ]
  },
  {
   "cell_type": "markdown",
   "metadata": {},
   "source": [
    "<div style=\"color: SteelBlue; font-family: 'Ubuntu Mono', 'Inconsolata', 'Noto Sans TC'; font-size: 300%; font-weight: 700;\">\n",
    "1. Python 3.12\n",
    "</div>\n",
    "<br>\n",
    "<div style=\"font-family: 'Inconsolata', 'Noto Sans TC'; font-size: 135%; color: Gainsboro\">\n",
    "\n",
    "* [The best new features and fixes in Python 3.12](https://www.infoworld.com/article/3697018/the-best-new-features-and-fixes-in-python-3-12.html)\n",
    "* 3.12版的強化和新增功能一大堆，但唯一令筆者「雀躍三尺」的是對f-string的改進。\n",
    "* f-string自從Python 3.6推出以來，慢慢已成為Python formatted string的新標準(最少筆者這樣認為)。其簡潔直觀的語法，在大部分情境中確實比舊版的string.format()好用得多。\n",
    "* 然而，一直到3.11版，f-string還是有些比較不方便地方。這些不便在3.12版獲得改善。\n",
    "* 官網原文：`PEP 701 lifts some restrictions on the usage of f-strings. Expression components inside f-strings can now be any valid Python expression, including strings reusing the same quote as the containing f-string, multi-line expressions, comments, backslashes, and unicode escape sequences.`"
   ]
  },
  {
   "cell_type": "markdown",
   "metadata": {},
   "source": [
    "<div style=\"color: YellowGreen; font-family: 'Ubuntu Mono', 'Inconsolata', 'Noto Sans TC'; font-size: 200%; font-weight: 700;\">\n",
    "f-string進化論-1.1\n",
    "</div>\n",
    "<br>\n",
    "<div style=\"font-family: 'Inconsolata', 'Noto Sans TC'; font-size: 135%; color: Gainsboro\">\n",
    "\n",
    "* F-string expressions can now contain the same kinds of quotes as those used to set off the f-string itself.\n",
    "* 筆者認為這是3.12版最大的改善，嘉惠一眾Pythonistas良多。"
   ]
  },
  {
   "cell_type": "code",
   "execution_count": 2,
   "metadata": {},
   "outputs": [
    {
     "name": "stdout",
     "output_type": "stream",
     "text": [
      "This is the playlist: Take me back to Eden, Alkaline, Ascensionism\n"
     ]
    }
   ],
   "source": [
    "# Python官網的範例。\n",
    "songs = ['Take me back to Eden', 'Alkaline', 'Ascensionism']\n",
    "print(f\"This is the playlist: {', '.join(songs)}\")"
   ]
  },
  {
   "cell_type": "code",
   "execution_count": 5,
   "metadata": {},
   "outputs": [
    {
     "name": "stdout",
     "output_type": "stream",
     "text": [
      "This is the playlist: Take me back to Eden, Alkaline, Ascensionism\n"
     ]
    }
   ],
   "source": [
    "# 3.6 - 3.11版要改成這樣才行。\n",
    "songs = ['Take me back to Eden', 'Alkaline', 'Ascensionism']\n",
    "print(f\"This is the playlist: {', '.join(songs)}\")"
   ]
  },
  {
   "cell_type": "code",
   "execution_count": 2,
   "metadata": {},
   "outputs": [
    {
     "ename": "SyntaxError",
     "evalue": "invalid syntax. Perhaps you forgot a comma? (1672373013.py, line 20)",
     "output_type": "error",
     "traceback": [
      "\u001b[0;36m  Cell \u001b[0;32mIn[2], line 20\u001b[0;36m\u001b[0m\n\u001b[0;31m    print(f'{stuff(raw, 3, 2, '_Pyt'h'on_' ) = }')\u001b[0m\n\u001b[0m                              ^\u001b[0m\n\u001b[0;31mSyntaxError\u001b[0m\u001b[0;31m:\u001b[0m invalid syntax. Perhaps you forgot a comma?\n"
     ]
    }
   ],
   "source": [
    "# 筆者在學Python前常用的程式語言(Clipper)中的一個很好用的字串函數，\n",
    "# 現用Python改寫。\n",
    "def stuff(raw: str, start: int, len_del: int, insert: str) -> str:\n",
    "    \"\"\"在`raw`的`start`位置開始，刪除`len_del`個字元，\n",
    "       再在原處插入`insert`，構成另一新字串。\n",
    "\n",
    "    Args:\n",
    "        raw (str): 原字串\n",
    "        start (int): 刪除及插入的開始位置(從0起算)\n",
    "        len_del (int): 刪除的字元數\n",
    "        insert (str): 插入的子元串\n",
    "\n",
    "    Returns:\n",
    "        str: 處理後的新字串。\n",
    "    \"\"\"\n",
    "    return f'{raw[0:start]}{insert}{raw[start + len_del:]}'\n",
    "\n",
    "raw = '0123456789' * 2\n",
    "print(f'{raw = }')\n",
    "print(f'{stuff(raw, 3, 2, '_Python_' ) = }')\n",
    "print(f'{stuff(raw, 8, 4, '' ) = }')\n",
    "print(f'{stuff(raw, 0, 0, '_Python_' ) = }')\n",
    "print(f'{stuff(raw, len(raw), 0, '_Python_' ) = }')\n",
    "print()\n",
    "# f'abc 'xyz' kk'  # 不管哪一版都不行。「人」也判定不了。"
   ]
  },
  {
   "cell_type": "markdown",
   "metadata": {},
   "source": [
    "<div style=\"color: YellowGreen; font-family: 'Ubuntu Mono', 'Inconsolata', 'Noto Sans TC'; font-size: 200%; font-weight: 700;\">\n",
    "f-string進化論-1.2.1 (QA時間)\n",
    "</div>\n",
    "<br>\n",
    "<div style=\"font-family: 'Inconsolata', 'Noto Sans TC'; font-size: 135%; color: Gainsboro\">\n",
    "\n",
    "* Q1: 3.11⇧的(vertical) <font color='Gold'>nested f-strings</font>「理論上」和「實務上」分別<font color='Gold'>最多</font>可以有幾層？\n",
    "    * 說明：所謂nested(巢套)，意思是「大腸包小腸」、「俄羅斯娃娃」：\n",
    "        * <span style=\"color: #FF3232; font-size: 112%; font-weight: 800;\">f'{f\"{(num := 2 + 1)}\"   f\"  {num ** 2 // 2}\"}'</span>\n",
    "        * Q1.1: 以上的f-strings，(vertical) nested了幾層？\n",
    "        * A1.1: ?\n",
    "* A1:\n",
    "    * 理論上：?\n",
    "    * 實務上：?\n",
    "* Q2: 3.12的(vertical) <font color='Gold'>nested f-strings</font>「理論上」和「實務上」分別<font color='Gold'>最多</font>可以有幾層？\n",
    "* A2:\n",
    "    * 理論上：?\n",
    "    * 實務上：?"
   ]
  },
  {
   "cell_type": "code",
   "execution_count": null,
   "metadata": {},
   "outputs": [],
   "source": [
    "# 剛才舉的nested f-strings，請猜其輸出。\n",
    "f'{f\"{(num := 2 + 1)}\"   f\"  {num ** 2 // 2}\"}'"
   ]
  },
  {
   "cell_type": "markdown",
   "metadata": {},
   "source": [
    "<div style=\"text-align:center\"><img src=\"https://hackmd.io/_uploads/S15GNeyma.jpg\" width=\"750\"/></div>"
   ]
  },
  {
   "cell_type": "markdown",
   "metadata": {},
   "source": [
    "<div style=\"color: YellowGreen; font-family: 'Ubuntu Mono', 'Inconsolata', 'Noto Sans TC'; font-size: 200%; font-weight: 700;\">\n",
    "f-string進化論-1.2.2\n",
    "</div>\n",
    "<br>\n",
    "<div style=\"font-family: 'Inconsolata', 'Noto Sans TC'; font-size: 135%; color: Gainsboro\">\n",
    "\n",
    "* Note that before this change(3.11⇧) there was no explicit limit in how f-strings can be nested, but <font color='Salmon'>the fact that string quotes cannot be reused inside the expression component of f-strings made it impossible to nest f-strings arbitrarily</font>. In fact, this is the most nested f-string that could be written:\n"
   ]
  },
  {
   "cell_type": "code",
   "execution_count": 6,
   "metadata": {},
   "outputs": [
    {
     "data": {
      "text/plain": [
       "'2'"
      ]
     },
     "execution_count": 6,
     "metadata": {},
     "output_type": "execute_result"
    }
   ],
   "source": [
    "# 解答：由於3.11⇧的nested f-string最多可以有幾層。\n",
    "f\"\"\"{f'''{f\"{f'{1 + 1}'}\"}'''}\"\"\""
   ]
  },
  {
   "cell_type": "code",
   "execution_count": 1,
   "metadata": {},
   "outputs": [
    {
     "data": {
      "text/plain": [
       "'2'"
      ]
     },
     "execution_count": 1,
     "metadata": {},
     "output_type": "execute_result"
    }
   ],
   "source": [
    "# 3.11⇧再多一層就沒徹了。\n",
    "f'{f\"\"\"{f'''{f\"{f'{1 + 1}'}\"}'''}\"\"\"}'"
   ]
  },
  {
   "cell_type": "markdown",
   "metadata": {},
   "source": [
    "<div style=\"text-align:center\"><img src=\"https://hackmd.io/_uploads/rJhHzxkXp.jpg\" width=\"750\"/></div>"
   ]
  },
  {
   "cell_type": "markdown",
   "metadata": {},
   "source": [
    "<div style=\"color: YellowGreen; font-family: 'Ubuntu Mono', 'Inconsolata', 'Noto Sans TC'; font-size: 200%; font-weight: 700;\">\n",
    "f-string進化論-1.3\n",
    "</div>\n",
    "<br>\n",
    "<div style=\"font-family: 'Inconsolata', 'Noto Sans TC'; font-size: 135%; color: Gainsboro\">\n",
    "\n",
    "* As now f-strings can contain any valid Python expression inside expression components, it is now possible to nest f-strings arbitrarily:\n"
   ]
  },
  {
   "cell_type": "code",
   "execution_count": 6,
   "metadata": {},
   "outputs": [
    {
     "data": {
      "text/plain": [
       "'2'"
      ]
     },
     "execution_count": 6,
     "metadata": {},
     "output_type": "execute_result"
    }
   ],
   "source": [
    "# 3.12的nested strings可真正做到無限多層。\n",
    "f'{f'{f'{f'{f'{f'{f'{f'{f'{f'{1 + 1}'}'}'}'}'}'}'}'}'}'"
   ]
  },
  {
   "cell_type": "markdown",
   "metadata": {},
   "source": [
    "<div style=\"color: YellowGreen; font-family: 'Ubuntu Mono', 'Inconsolata', 'Noto Sans TC'; font-size: 200%; font-weight: 700;\">\n",
    "f-string進化論-2\n",
    "</div>\n",
    "<br>\n",
    "<div style=\"font-family: 'Inconsolata', 'Noto Sans TC'; font-size: 135%; color: Gainsboro\">\n",
    "\n",
    "* F-string expressions can now be multiline expressions, as long as they follow the same rules for other multiline expressions (e.g., using parentheses to allow expressions to span multiple lines).\n",
    "\n"
   ]
  },
  {
   "cell_type": "markdown",
   "metadata": {},
   "source": [
    "<div style=\"color: YellowGreen; font-family: 'Ubuntu Mono', 'Inconsolata', 'Noto Sans TC'; font-size: 200%; font-weight: 700;\">\n",
    "f-string進化論-3\n",
    "</div>\n",
    "<br>\n",
    "<div style=\"font-family: 'Inconsolata', 'Noto Sans TC'; font-size: 135%; color: Gainsboro\">\n",
    "\n",
    "* Backslashes and Unicode character definitions are now allowed in f-strings. You can use everything from simple control characters (\\n) to references to the Unicode namespace (\\N{POUND SIGN}).\n",
    "\n"
   ]
  },
  {
   "cell_type": "markdown",
   "metadata": {},
   "source": [
    "<div style=\"color: YellowGreen; font-family: 'Ubuntu Mono', 'Inconsolata', 'Noto Sans TC'; font-size: 200%; font-weight: 700;\">\n",
    "f-string進化論-4\n",
    "</div>\n",
    "<br>\n",
    "<div style=\"font-family: 'Inconsolata', 'Noto Sans TC'; font-size: 135%; color: Gainsboro\">\n",
    "\n",
    "* Errors within f-string expressions now yield the exact location of the error within the enclosing statement, not just within the expression itself. This makes f-string errors easier to track down and troubleshoot."
   ]
  },
  {
   "cell_type": "code",
   "execution_count": 41,
   "metadata": {},
   "outputs": [
    {
     "data": {
      "text/plain": [
       "823543"
      ]
     },
     "execution_count": 41,
     "metadata": {},
     "output_type": "execute_result"
    }
   ],
   "source": [
    "i = 7\n",
    "i ** i"
   ]
  },
  {
   "cell_type": "code",
   "execution_count": 59,
   "metadata": {},
   "outputs": [
    {
     "name": "stdout",
     "output_type": "stream",
     "text": [
      "squares(1, 48) = [1, 4, 9, 16, 25, 36]\n",
      "squares(2, 49) = [4, 9, 16, 25, 36]\n",
      "squares(4, 50) = [4, 9, 16, 25, 36, 49]\n",
      "squares(48, 121) = [49, 64, 81, 100]\n",
      "squares(49, 100) = [49, 64, 81]\n",
      "squares(64, 64) = []\n",
      "squares(64, 65) = [64]\n",
      "squares(9) = [9, 16, 25, 36, 49, 64, 81]\n",
      "squares() = [1, 4, 9, 16, 25, 36, 49, 64, 81]\n",
      "\n"
     ]
    }
   ],
   "source": [
    "def squares(lo: int = 1, hi: int = 100) -> str:\n",
    "    return [i**2 for i in range(int((lo - 1)**0.5) + 1, int((hi - 1)**0.5) + 1)]\n",
    "\n",
    "# print()\n",
    "print(f'{squares(1, 48) = }')\n",
    "print(f'{squares(2, 49) = }')\n",
    "print(f'{squares(4, 50) = }')\n",
    "print(f'{squares(48, 121) = }')\n",
    "print(f'{squares(49, 100) = }')\n",
    "print(f'{squares(64, 64) = }')\n",
    "print(f'{squares(64, 65) = }')\n",
    "print(f'{squares(9) = }')\n",
    "print(f'{squares() = }')\n",
    "print()"
   ]
  },
  {
   "cell_type": "code",
   "execution_count": null,
   "metadata": {},
   "outputs": [],
   "source": []
  },
  {
   "cell_type": "code",
   "execution_count": null,
   "metadata": {},
   "outputs": [],
   "source": []
  },
  {
   "cell_type": "code",
   "execution_count": null,
   "metadata": {},
   "outputs": [],
   "source": []
  },
  {
   "cell_type": "markdown",
   "metadata": {},
   "source": [
    "<div style=\"color: SteelBlue; font-family: 'Ubuntu Mono', 'Inconsolata', 'Noto Sans TC'; font-size: 300%; font-weight: 700;\">\n",
    "2. Python較少用的運算子\n",
    "</div>\n",
    "<br>\n",
    "<div style=\"font-family: 'Inconsolata', 'Noto Sans TC'; font-size: 135%; color: Gainsboro\">\n"
   ]
  },
  {
   "cell_type": "markdown",
   "metadata": {},
   "source": [
    "<div style=\"color: SteelBlue; font-family: 'Ubuntu Mono', 'Inconsolata', 'Noto Sans TC'; font-size: 300%; font-weight: 700;\">\n",
    "3. Python的拉鏈: zip()\n",
    "</div>\n",
    "<br>\n",
    "<div style=\"font-family: 'Inconsolata', 'Noto Sans TC'; font-size: 135%; color: Gainsboro\">"
   ]
  },
  {
   "cell_type": "markdown",
   "metadata": {},
   "source": [
    "<div style=\"color: SteelBlue; font-family: 'Ubuntu Mono', 'Inconsolata', 'Noto Sans TC'; font-size: 300%; font-weight: 700;\">\n",
    "4. From Sequence to Generator\n",
    "</div>\n",
    "<br>\n",
    "<div style=\"font-family: 'Inconsolata', 'Noto Sans TC'; font-size: 135%; color: Gainsboro\">"
   ]
  },
  {
   "cell_type": "markdown",
   "metadata": {},
   "source": [
    "<div style=\"color: SteelBlue; font-family: 'Ubuntu Mono', 'Inconsolata', 'Noto Sans TC'; font-size: 300%; font-weight: 700;\">\n",
    "5. Class Level Attributes\n",
    "</div>\n",
    "<br>\n",
    "<div style=\"font-family: 'Inconsolata', 'Noto Sans TC'; font-size: 135%; color: Gainsboro\">"
   ]
  },
  {
   "cell_type": "markdown",
   "metadata": {},
   "source": [
    "<div style=\"text-align:center\"><img src=\"https://hackmd.io/_uploads/Skc81vxza.png\" width=\"800\"/></div>"
   ]
  },
  {
   "cell_type": "code",
   "execution_count": 4,
   "metadata": {},
   "outputs": [
    {
     "name": "stdout",
     "output_type": "stream",
     "text": [
      "CoinCollector.collectors[1].coins = 1\n",
      "CoinCollector.collectors[2].coins = 3\n",
      "CoinCollector.collectors[3].coins = 2\n"
     ]
    }
   ],
   "source": [
    "class CoinCollector:\n",
    "  collectors: dict = {}\n",
    "  def __init__(self, id: int, coins: int = 1):\n",
    "      self.id = id\n",
    "      self.coins = coins\n",
    "      CoinCollector.collectors[id] = self\n",
    "  def give_coins(self, id: int, count: int = 1):\n",
    "      CoinCollector.collectors[id].coins += count\n",
    "      self.coins -= count\n",
    "\n",
    "_ = CoinCollector(1, 2)\n",
    "_ = CoinCollector(2)\n",
    "_ = CoinCollector(3, 3)\n",
    "CoinCollector.collectors[1].give_coins(id=2, count=2)\n",
    "CoinCollector.collectors[2].give_coins(id=3, count=0)\n",
    "CoinCollector.collectors[3].give_coins(id=1)\n",
    "print(f'{CoinCollector.collectors[1].coins = }')\n",
    "print(f'{CoinCollector.collectors[2].coins = }')\n",
    "print(f'{CoinCollector.collectors[3].coins = }')"
   ]
  },
  {
   "cell_type": "markdown",
   "metadata": {},
   "source": [
    "<div style=\"text-align:center\"><img src=\"\" width=\"850\"/></div>"
   ]
  },
  {
   "cell_type": "markdown",
   "metadata": {},
   "source": [
    "<div style=\"color: SteelBlue; font-family: 'Ubuntu Mono', 'Inconsolata', 'Noto Sans TC'; font-size: 300%; font-weight: 700;\">\n",
    "6. Multiple Inputs in One Go\n",
    "</div>\n",
    "<br>\n",
    "<div style=\"font-family: 'Inconsolata', 'Noto Sans TC'; font-size: 135%; color: Gainsboro\">"
   ]
  },
  {
   "cell_type": "code",
   "execution_count": null,
   "metadata": {},
   "outputs": [],
   "source": [
    "# 需求：程式要取得從鍵盤輸入的5個名字。\n",
    "# v1. 就寫5個input's吧：\n",
    "names = []\n",
    "names.append(input('請輸入第1個名字：'))\n",
    "names.append(input('請輸入第2個名字：'))\n",
    "names.append(input('請輸入第3個名字：'))\n",
    "names.append(input('請輸入第4個名字：'))\n",
    "names.append(input('請輸入第5個名字：'))"
   ]
  },
  {
   "cell_type": "markdown",
   "metadata": {},
   "source": [
    "<div style=\"color: DarkSalmon; font-family: 'Ubuntu Mono', 'Inconsolata', 'Noto Sans TC'; font-size: 250%; font-weight: 700;\">\n",
    "用腳趾想都知道，這不是在寫程式\n",
    "</div>\n",
    "<br>\n",
    "<div style=\"font-family: 'Inconsolata', 'Noto Sans TC'; font-size: 135%; color: Gainsboro\">\n",
    "\n",
    "* 最少不是在寫「好」的程式。\n",
    "* 改進之道，一般人馬上想到的應該就是："
   ]
  },
  {
   "cell_type": "code",
   "execution_count": 7,
   "metadata": {},
   "outputs": [
    {
     "data": {
      "text/plain": [
       "('Alex', 'Mirror', 'Helen')"
      ]
     },
     "execution_count": 7,
     "metadata": {},
     "output_type": "execute_result"
    }
   ],
   "source": [
    "a, b, c = input(\"Enter three inputs: \").split()\n",
    "a, b, c"
   ]
  },
  {
   "cell_type": "code",
   "execution_count": null,
   "metadata": {},
   "outputs": [],
   "source": []
  },
  {
   "cell_type": "code",
   "execution_count": null,
   "metadata": {},
   "outputs": [],
   "source": []
  },
  {
   "cell_type": "code",
   "execution_count": null,
   "metadata": {},
   "outputs": [],
   "source": []
  },
  {
   "cell_type": "code",
   "execution_count": null,
   "metadata": {},
   "outputs": [],
   "source": []
  },
  {
   "cell_type": "code",
   "execution_count": null,
   "metadata": {},
   "outputs": [],
   "source": []
  },
  {
   "cell_type": "code",
   "execution_count": null,
   "metadata": {},
   "outputs": [],
   "source": []
  },
  {
   "cell_type": "code",
   "execution_count": null,
   "metadata": {},
   "outputs": [],
   "source": []
  },
  {
   "cell_type": "code",
   "execution_count": null,
   "metadata": {},
   "outputs": [],
   "source": []
  },
  {
   "cell_type": "code",
   "execution_count": null,
   "metadata": {},
   "outputs": [],
   "source": []
  },
  {
   "cell_type": "markdown",
   "metadata": {},
   "source": [
    "<div style=\"text-align:center\"><img src=\"https://hackmd.io/_uploads/r1mSyb9Ja.png\" width=\"350\"/></div>"
   ]
  }
 ],
 "metadata": {
  "kernelspec": {
   "display_name": "Python 3",
   "language": "python",
   "name": "python3"
  },
  "language_info": {
   "codemirror_mode": {
    "name": "ipython",
    "version": 3
   },
   "file_extension": ".py",
   "mimetype": "text/x-python",
   "name": "python",
   "nbconvert_exporter": "python",
   "pygments_lexer": "ipython3",
   "version": "3.11.6"
  }
 },
 "nbformat": 4,
 "nbformat_minor": 2
}
